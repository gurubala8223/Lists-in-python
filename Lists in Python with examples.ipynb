{
 "cells": [
  {
   "cell_type": "code",
   "execution_count": 11,
   "id": "5f1174b7-5cf8-41ef-a154-18b56c4f9cbf",
   "metadata": {},
   "outputs": [
    {
     "name": "stdout",
     "output_type": "stream",
     "text": [
      "['gurubala', 'kedhar', 'kiran', 'sai', 'jagadesh', 'rajasekhar', 'harish', 'sri', 'ram', 'okesh']\n"
     ]
    }
   ],
   "source": [
    "#Lists in python\n",
    "#List is a collection which is ordered and changeable. Allows duplicate members\n",
    "\n",
    "l= [\"gurubala\", \"kedhar\", \"kiran\",\"sai\",\"jagadesh\",\"rajasekhar\",\"harish\",\"sri\",\"ram\",\"okesh\"]\n",
    "print(l)"
   ]
  },
  {
   "cell_type": "code",
   "execution_count": 17,
   "id": "928e2a7e-2c18-4e75-86c2-fa2e8d839d5b",
   "metadata": {},
   "outputs": [
    {
     "name": "stdout",
     "output_type": "stream",
     "text": [
      "10\n"
     ]
    }
   ],
   "source": [
    "\n",
    "#To determine how many items a list has, use the len() function\n",
    "l= [\"gurubala\", \"kedhar\", \"kiran\",\"sai\",\"jagadesh\",\"rajasekhar\",\"harish\",\"sri\",\"ram\",\"okesh\"]\n",
    "print(len(l))"
   ]
  },
  {
   "cell_type": "code",
   "execution_count": 19,
   "id": "3ea07478-1c74-48f3-9c04-718dcc8d24d3",
   "metadata": {},
   "outputs": [
    {
     "name": "stdout",
     "output_type": "stream",
     "text": [
      "<class 'list'>\n"
     ]
    }
   ],
   "source": [
    "\n",
    "#lists are defined as objects with the data type 'list'\n",
    "l= [\"gurubala\", \"kedhar\", \"kiran\",\"sai\",\"jagadesh\",\"rajasekhar\",\"harish\",\"sri\",\"ram\",\"okesh\"]\n",
    "print(type(l))"
   ]
  },
  {
   "cell_type": "code",
   "execution_count": 29,
   "id": "caeb5734-4612-406a-99b3-d9554c49355f",
   "metadata": {},
   "outputs": [
    {
     "name": "stdout",
     "output_type": "stream",
     "text": [
      "gurubala\n",
      "kedhar\n",
      "kiran\n",
      "sai\n",
      "jagadesh\n",
      "rajasekhar\n",
      "harish\n",
      "sri\n",
      "ram\n",
      "okesh\n"
     ]
    }
   ],
   "source": [
    "#List items are indexed and you can access them by referring to the index number\n",
    "l= [\"gurubala\", \"kedhar\", \"kiran\",\"sai\",\"jagadesh\",\"rajasekhar\",\"harish\",\"sri\",\"ram\",\"okesh\"]\n",
    "print(l[0])\n",
    "print(l[1])\n",
    "print(l[2])\n",
    "print(l[3])\n",
    "print(l[4])\n",
    "print(l[5])\n",
    "print(l[6])\n",
    "print(l[7])\n",
    "print(l[8])\n",
    "print(l[9])"
   ]
  },
  {
   "cell_type": "code",
   "execution_count": 32,
   "id": "b147ae65-7806-4171-96f9-eabbc76f9a54",
   "metadata": {},
   "outputs": [
    {
     "name": "stdout",
     "output_type": "stream",
     "text": [
      "okesh\n",
      "ram\n",
      "sri\n",
      "harish\n",
      "rajasekhar\n",
      "jagadesh\n",
      "sai\n",
      "kiran\n",
      "kedhar\n",
      "gurubala\n"
     ]
    }
   ],
   "source": [
    "#Negative indexing means start from the end\n",
    "l= [\"gurubala\", \"kedhar\", \"kiran\",\"sai\",\"jagadesh\",\"rajasekhar\",\"harish\",\"sri\",\"ram\",\"okesh\"]\n",
    "print(l[-1])\n",
    "print(l[-2])\n",
    "print(l[-3])\n",
    "print(l[-4])\n",
    "print(l[-5])\n",
    "print(l[-6])\n",
    "print(l[-7])\n",
    "print(l[-8])\n",
    "print(l[-9])\n",
    "print(l[-10])\n"
   ]
  },
  {
   "cell_type": "code",
   "execution_count": 6,
   "id": "a4e493dd-7a51-4a03-8145-37deb0df99da",
   "metadata": {},
   "outputs": [
    {
     "name": "stdout",
     "output_type": "stream",
     "text": [
      "['gurubala', 'kedhar', 'UMESH', 'sai', 'jagadesh', 'rajasekhar', 'harish', 'sri', 'ram', 'okesh']\n"
     ]
    }
   ],
   "source": [
    "\n",
    "#To change the value of a specific item, refer to the index number\n",
    "l= [\"gurubala\", \"kedhar\", \"kiran\",\"sai\",\"jagadesh\",\"rajasekhar\",\"harish\",\"sri\",\"ram\",\"okesh\"]\n",
    "l[2]=\"UMESH\"\n",
    "print(l)"
   ]
  },
  {
   "cell_type": "code",
   "execution_count": 7,
   "id": "f9aae37e",
   "metadata": {},
   "outputs": [
    {
     "name": "stdout",
     "output_type": "stream",
     "text": [
      "['gurubala', 'kedhar', 'UMESH', 'kiran', 'sai', 'jagadesh', 'rajasekhar', 'harish', 'sri', 'ram', 'okesh']\n"
     ]
    }
   ],
   "source": [
    "\n",
    "#To insert a new list item, without replacing any of the existing values, we can use the insert() method\n",
    "l= [\"gurubala\", \"kedhar\", \"kiran\",\"sai\",\"jagadesh\",\"rajasekhar\",\"harish\",\"sri\",\"ram\",\"okesh\"]\n",
    "l.insert(2,\"UMESH\")\n",
    "print(l)"
   ]
  },
  {
   "cell_type": "code",
   "execution_count": 8,
   "id": "94ef45d6",
   "metadata": {},
   "outputs": [
    {
     "name": "stdout",
     "output_type": "stream",
     "text": [
      "['gurubala', 'kedhar', 'kiran', 'sai', 'jagadesh', 'rajasekhar', 'harish', 'sri', 'ram', 'okesh', 'UMESH']\n"
     ]
    }
   ],
   "source": [
    "\n",
    "#To add an item to the end of the list, use the append() method\n",
    "l= [\"gurubala\", \"kedhar\", \"kiran\",\"sai\",\"jagadesh\",\"rajasekhar\",\"harish\",\"sri\",\"ram\",\"okesh\"]\n",
    "l.append(\"UMESH\")\n",
    "print(l)\n"
   ]
  },
  {
   "cell_type": "code",
   "execution_count": 9,
   "id": "2b0ff2b4",
   "metadata": {},
   "outputs": [
    {
     "name": "stdout",
     "output_type": "stream",
     "text": [
      "['gurubala', 'kedhar', 'kiran', 'sai', 'jagadesh', 'rajasekhar', 'harish', 'sri', 'ram', 'okesh']\n"
     ]
    }
   ],
   "source": [
    "\n",
    "#To append elements from another list to the current list, use the extend() method\n",
    "l= [\"gurubala\", \"kedhar\", \"kiran\",\"sai\"]\n",
    "m=[\"jagadesh\",\"rajasekhar\",\"harish\",\"sri\",\"ram\",\"okesh\"]\n",
    "l.extend(m)\n",
    "print(l)"
   ]
  },
  {
   "cell_type": "code",
   "execution_count": 14,
   "id": "62e1482d",
   "metadata": {},
   "outputs": [
    {
     "name": "stdout",
     "output_type": "stream",
     "text": [
      "['kedhar', 'kiran', 'sai', 'jagadesh', 'rajasekhar', 'harish', 'sri', 'ram', 'okesh']\n"
     ]
    }
   ],
   "source": [
    "\n",
    "#The remove() method removes the specified item\n",
    "l= [\"gurubala\", \"kedhar\", \"kiran\",\"sai\",\"jagadesh\",\"rajasekhar\",\"harish\",\"sri\",\"ram\",\"okesh\"]\n",
    "l.remove(\"gurubala\")\n",
    "print(l)"
   ]
  },
  {
   "cell_type": "code",
   "execution_count": 16,
   "id": "7f2e3b42",
   "metadata": {},
   "outputs": [
    {
     "name": "stdout",
     "output_type": "stream",
     "text": [
      "['kedhar', 'kiran', 'sai', 'jagadesh', 'rajasekhar', 'harish', 'sri', 'ram', 'okesh']\n"
     ]
    }
   ],
   "source": [
    "\n",
    "#The pop() method removes the specified index\n",
    "l= [\"gurubala\", \"kedhar\", \"kiran\",\"sai\",\"jagadesh\",\"rajasekhar\",\"harish\",\"sri\",\"ram\",\"okesh\"]\n",
    "l.pop(0)\n",
    "print(l)\n"
   ]
  },
  {
   "cell_type": "code",
   "execution_count": 33,
   "id": "81bf6ea4",
   "metadata": {},
   "outputs": [
    {
     "name": "stdout",
     "output_type": "stream",
     "text": [
      "gurubala , kedhar , kiran , sai , jagadesh , rajasekhar , harish , sri , ram , okesh , "
     ]
    }
   ],
   "source": [
    "#You can loop through the list items by using a for loop\n",
    "l= [\"gurubala\", \"kedhar\", \"kiran\",\"sai\",\"jagadesh\",\"rajasekhar\",\"harish\",\"sri\",\"ram\",\"okesh\"]\n",
    "for i in l:\n",
    "    print(i,end=\" , \")\n"
   ]
  },
  {
   "cell_type": "code",
   "execution_count": 36,
   "id": "f333e26d",
   "metadata": {},
   "outputs": [
    {
     "name": "stdout",
     "output_type": "stream",
     "text": [
      "['gurubala', 'harish', 'jagadesh', 'kedhar', 'kiran', 'okesh', 'rajasekhar', 'ram', 'sai', 'sri']\n"
     ]
    }
   ],
   "source": [
    "\n",
    "#List objects have a sort() method that will sort the list alphanumerically, ascending, by default\n",
    "l= [\"gurubala\", \"kedhar\", \"kiran\",\"sai\",\"jagadesh\",\"rajasekhar\",\"harish\",\"sri\",\"ram\",\"okesh\"]\n",
    "l.sort()\n",
    "print(l)"
   ]
  },
  {
   "cell_type": "code",
   "execution_count": 37,
   "id": "220a7cc2",
   "metadata": {},
   "outputs": [
    {
     "name": "stdout",
     "output_type": "stream",
     "text": [
      "['sri', 'sai', 'ram', 'rajasekhar', 'okesh', 'kiran', 'kedhar', 'jagadesh', 'harish', 'gurubala']\n"
     ]
    }
   ],
   "source": [
    "\n",
    "#To sort descending, use the keyword argument reverse = True\n",
    "l= [\"gurubala\", \"kedhar\", \"kiran\",\"sai\",\"jagadesh\",\"rajasekhar\",\"harish\",\"sri\",\"ram\",\"okesh\"]\n",
    "l.sort(reverse=True)\n",
    "print(l)"
   ]
  },
  {
   "cell_type": "code",
   "execution_count": null,
   "id": "54f1ed76",
   "metadata": {},
   "outputs": [],
   "source": [
    "Python - List Methods\n",
    "\n",
    "append()= Adds an element at the end of the list\n",
    "clear() = Removes all the elements from the list\n",
    "copy()  = Returns a copy of the list\n",
    "count() = Returns the number of elements with the specified value\n",
    "extend()= Add the elements of a list (or any iterable), to the end of the current list\n",
    "index() = Returns the index of the first element with the specified value\n",
    "insert()= Adds an element at the specified position\n",
    "pop()   = Removes the element at the specified position\n",
    "remove()= Removes the item with the specified value\n",
    "reverse()=Reverses the order of the list\n",
    "sort()  = Sorts the list"
   ]
  }
 ],
 "metadata": {
  "kernelspec": {
   "display_name": "Python 3",
   "language": "python",
   "name": "python3"
  },
  "language_info": {
   "codemirror_mode": {
    "name": "ipython",
    "version": 3
   },
   "file_extension": ".py",
   "mimetype": "text/x-python",
   "name": "python",
   "nbconvert_exporter": "python",
   "pygments_lexer": "ipython3",
   "version": "3.8.8"
  }
 },
 "nbformat": 4,
 "nbformat_minor": 5
}
